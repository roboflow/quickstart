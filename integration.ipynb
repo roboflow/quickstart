{
 "cells": [
  {
   "cell_type": "markdown",
   "id": "8d94732b",
   "metadata": {},
   "source": [
    "# Integrating Roboflow Into Your Application\n",
    "\n",
    "FEEDBACK ON THIS NOTEBOOK: this doesn't really do any integration at all; it's just calling inference again. We should show how you'd actually do something with a model's output.\n",
    "\n",
    "Integrating Roboflow into your application involves hooking up a Roboflow inference engine to your client, and writing logic after inference to make your model useful in production.\n",
    "\n",
    "![image info](https://i.imgur.com/ne4q57D.png[/img)\n",
    "\n",
    "## Roboflow Deployment Locations\n",
    "\n",
    "You can take your Roboflow models to (nearly) any destination\n",
    "\n",
    "### Hosted API\n",
    "\n",
    "Roboflow hosts models on infintely scaling cloud servers. If you do not have low inference latency requirements (sub 500 ms) and you do not need privately hosted inference, the hosted inference servers are ideal.\n",
    "\n",
    "Model's are hosted at:\n",
    "\n",
    "* https://classify.roboflow.com\n",
    "* https://detect.roboflow.com\n",
    "* https://outline.roboflow.com\n",
    "\n",
    "Note: in \"model-types\" we were hitting the hosted API in the python SDK for `model.predict()`\n",
    "\n",
    "\n",
    "\n"
   ]
  },
  {
   "cell_type": "code",
   "execution_count": 3,
   "id": "d6a323c4",
   "metadata": {},
   "outputs": [
    {
     "name": "stdout",
     "output_type": "stream",
     "text": [
      "\r",
      "You are already logged into Roboflow. To make a different login, run roboflow.login(force=True).\n"
     ]
    }
   ],
   "source": [
    "#log into Roboflow\n",
    "import roboflow\n",
    "roboflow.login()"
   ]
  },
  {
   "cell_type": "code",
   "execution_count": 4,
   "id": "567a74d4",
   "metadata": {},
   "outputs": [
    {
     "name": "stdout",
     "output_type": "stream",
     "text": [
      "loading Roboflow workspace...\n",
      "loading Roboflow project...\n"
     ]
    }
   ],
   "source": [
    "# you can use the python SDK to post images at the Roboflow Inference APIs, like we did before\n",
    "img_url = \"https://storage.googleapis.com/roboflow-platform-sources/5w20VzQObTXjJhTjq6kad9ubrm33/u4tafZcDgtuOuWm4jIGX/original.jpg\"\n",
    "project = \"aerial-solar-panels\"\n",
    "version = 6\n",
    "model = roboflow.load_model(project=project, version=version)"
   ]
  },
  {
   "cell_type": "code",
   "execution_count": 5,
   "id": "d0ecbfbe",
   "metadata": {},
   "outputs": [
    {
     "data": {
      "text/plain": [
       "'https://detect.roboflow.com/'"
      ]
     },
     "execution_count": 5,
     "metadata": {},
     "output_type": "execute_result"
    }
   ],
   "source": [
    "model.base_url"
   ]
  },
  {
   "cell_type": "code",
   "execution_count": null,
   "id": "c4ccfdb6",
   "metadata": {},
   "outputs": [],
   "source": [
    "# TODO: Revoke key; make sure we don't save this output to the notebook in the future\n",
    "model.api_url"
   ]
  },
  {
   "cell_type": "code",
   "execution_count": 3,
   "id": "dde93615",
   "metadata": {},
   "outputs": [
    {
     "data": {
      "text/plain": [
       "[{'x': 1896.0,\n",
       "  'y': 396.0,\n",
       "  'width': 170.0,\n",
       "  'height': 196.0,\n",
       "  'confidence': 0.9106213450431824,\n",
       "  'class': 'solar-panels',\n",
       "  'image_path': 'https://storage.googleapis.com/roboflow-platform-sources/5w20VzQObTXjJhTjq6kad9ubrm33/u4tafZcDgtuOuWm4jIGX/original.jpg',\n",
       "  'prediction_type': 'ObjectDetectionModel'},\n",
       " {'x': 1966.0,\n",
       "  'y': 861.5,\n",
       "  'width': 206.0,\n",
       "  'height': 339.0,\n",
       "  'confidence': 0.8960927724838257,\n",
       "  'class': 'solar-panels',\n",
       "  'image_path': 'https://storage.googleapis.com/roboflow-platform-sources/5w20VzQObTXjJhTjq6kad9ubrm33/u4tafZcDgtuOuWm4jIGX/original.jpg',\n",
       "  'prediction_type': 'ObjectDetectionModel'}]"
      ]
     },
     "execution_count": 3,
     "metadata": {},
     "output_type": "execute_result"
    }
   ],
   "source": [
    "# I don't understand what this cell is trying to do/say\n",
    "# also do we need hosted=True or can we infer it?\n",
    "# (I thought hosted was talking about hosted API vs local server at first)\n",
    "pred = model.predict(img_url, hosted=True)\n",
    "pred.json()[\"predictions\"][0:2]"
   ]
  },
  {
   "cell_type": "code",
   "execution_count": null,
   "id": "31e78476",
   "metadata": {},
   "outputs": [],
   "source": [
    "# you can also infer on a local image\n",
    "pred = model.predict(\"drone_scan.jpg\")\n",
    "pred.plot()"
   ]
  },
  {
   "cell_type": "code",
   "execution_count": 9,
   "id": "ee9b6ab3",
   "metadata": {},
   "outputs": [],
   "source": [
    "# TODO: move these comments to text cells; they don't line break well here\n",
    "# TODO: we should show doing this via cURL instead to get the point across better\n",
    "\n",
    "#the python SDK is just a wrapper around the hosted API URLs where you can pass images via URL or base64 encoded string\n",
    "#fun fact, the rest of the Roboflow SDKs use these same URLs, and you can deploy them in differnt languages and servers\n",
    "\n",
    "#example of posting at the URL directly\n",
    "import requests\n",
    "import urllib\n",
    "\n",
    "img_url = \"https://storage.googleapis.com/roboflow-platform-sources/5w20VzQObTXjJhTjq6kad9ubrm33/u4tafZcDgtuOuWm4jIGX/original.jpg\"\n",
    "request_url = model.api_url + \"&image=\" + urllib.parse.quote_plus(img_url)\n",
    "resp = requests.post(request_url)\n"
   ]
  },
  {
   "cell_type": "code",
   "execution_count": 10,
   "id": "3bec1eb5",
   "metadata": {},
   "outputs": [
    {
     "data": {
      "text/plain": [
       "[{'x': 1896.0,\n",
       "  'y': 396.0,\n",
       "  'width': 170.0,\n",
       "  'height': 196.0,\n",
       "  'confidence': 0.9106213450431824,\n",
       "  'class': 'solar-panels'},\n",
       " {'x': 1966.0,\n",
       "  'y': 861.5,\n",
       "  'width': 206.0,\n",
       "  'height': 339.0,\n",
       "  'confidence': 0.8960927724838257,\n",
       "  'class': 'solar-panels'}]"
      ]
     },
     "execution_count": 10,
     "metadata": {},
     "output_type": "execute_result"
    }
   ],
   "source": [
    "resp.json()[\"predictions\"][0:2]"
   ]
  },
  {
   "cell_type": "markdown",
   "id": "99d08692",
   "metadata": {},
   "source": [
    "### Local Deployment\n",
    "\n",
    "You can also deploy Roboflow Inference Servers locally via docker containers. These containers accelerate inference on CPU and NVIDIA GPUs.\n",
    "\n",
    "Deployment Docs: \n",
    "\n",
    "Note: the quickstart setup had quickly spun up a local server for us at \"http://localhost:9001\". We were invoking this inference for lower latency in `model.webcam()`\n"
   ]
  },
  {
   "cell_type": "code",
   "execution_count": 9,
   "id": "e143143b",
   "metadata": {},
   "outputs": [
    {
     "name": "stdout",
     "output_type": "stream",
     "text": [
      "{\r\n",
      "    \"server\": {\r\n",
      "        \"package\": \"@roboflow/inference-server\",\r\n",
      "        \"version\": \"1.4.0\"\r\n",
      "    },\r\n",
      "    \"roboflow\": {\r\n",
      "        \"package\": \"roboflow-node\",\r\n",
      "        \"version\": \"0.2.25\"\r\n",
      "    }\r\n",
      "}"
     ]
    }
   ],
   "source": [
    "!curl http://localhost:9001"
   ]
  },
  {
   "cell_type": "code",
   "execution_count": 11,
   "id": "c82a54a8",
   "metadata": {},
   "outputs": [],
   "source": [
    "# Why like this with `requests` instead of using the pip package for the infer?\n",
    "request_url = request_url.replace(\"https://detect.roboflow.com\", \"http://localhost:9001\")"
   ]
  },
  {
   "cell_type": "code",
   "execution_count": 11,
   "id": "4f0a6943",
   "metadata": {},
   "outputs": [],
   "source": [
    "img_url = \"https://storage.googleapis.com/roboflow-platform-sources/5w20VzQObTXjJhTjq6kad9ubrm33/u4tafZcDgtuOuWm4jIGX/original.jpg\"\n",
    "request_url = model.api_url + \"&image=\" + urllib.parse.quote_plus(img_url)\n",
    "resp = requests.post(request_url)"
   ]
  },
  {
   "cell_type": "code",
   "execution_count": 12,
   "id": "28e495c1",
   "metadata": {},
   "outputs": [
    {
     "data": {
      "text/plain": [
       "[{'x': 1896.0,\n",
       "  'y': 396.0,\n",
       "  'width': 170.0,\n",
       "  'height': 196.0,\n",
       "  'confidence': 0.9106213450431824,\n",
       "  'class': 'solar-panels'},\n",
       " {'x': 1966.0,\n",
       "  'y': 861.5,\n",
       "  'width': 206.0,\n",
       "  'height': 339.0,\n",
       "  'confidence': 0.8960927724838257,\n",
       "  'class': 'solar-panels'}]"
      ]
     },
     "execution_count": 12,
     "metadata": {},
     "output_type": "execute_result"
    }
   ],
   "source": [
    "resp.json()[\"predictions\"][0:2]"
   ]
  },
  {
   "cell_type": "markdown",
   "id": "1262eab2",
   "metadata": {},
   "source": [
    "## Next Up - Creating Your Own Models\n",
    "\n",
    "In many cases, pre-trained Roboflow models will not have the specificy your application needs.\n",
    "\n",
    "In the next start of the quickstart tutorial, we will dive into how you can create and interate on your own custom models in Roboflow."
   ]
  },
  {
   "cell_type": "code",
   "execution_count": 12,
   "id": "5cf8f3f5",
   "metadata": {},
   "outputs": [
    {
     "data": {
      "text/plain": [
       "True"
      ]
     },
     "execution_count": 12,
     "metadata": {},
     "output_type": "execute_result"
    }
   ],
   "source": [
    "# TODO: Use link instead of code cell\n",
    "\n",
    "from notebook import notebookapp\n",
    "import webbrowser\n",
    "jupyter_server = list(notebookapp.list_running_servers())[0][\"url\"]\n",
    "webbrowser.open(jupyter_server + \"notebooks/create-models.ipynb\")"
   ]
  },
  {
   "cell_type": "code",
   "execution_count": null,
   "id": "4db0e331",
   "metadata": {},
   "outputs": [],
   "source": []
  }
 ],
 "metadata": {
  "kernelspec": {
   "display_name": "Python 3 (ipykernel)",
   "language": "python",
   "name": "python3"
  },
  "language_info": {
   "codemirror_mode": {
    "name": "ipython",
    "version": 3
   },
   "file_extension": ".py",
   "mimetype": "text/x-python",
   "name": "python",
   "nbconvert_exporter": "python",
   "pygments_lexer": "ipython3",
   "version": "3.10.8"
  }
 },
 "nbformat": 4,
 "nbformat_minor": 5
}
