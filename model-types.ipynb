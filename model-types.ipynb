{
 "cells": [
  {
   "cell_type": "markdown",
   "id": "946f143a",
   "metadata": {},
   "source": [
    "# Roboflow Model Types\n",
    "\n",
    "Roboflow allows you to apply computer vision to your problem with the following tasks:\n",
    "\n",
    "* Classification\n",
    "* Object Detection\n",
    "* Instance Segmentation\n",
    "* Semantic Segmentation\n",
    "\n",
    "Let's dive in."
   ]
  },
  {
   "cell_type": "code",
   "execution_count": null,
   "id": "4bbe958c",
   "metadata": {
    "scrolled": true
   },
   "outputs": [],
   "source": [
    "# log in to Roboflow\n",
    "import roboflow\n",
    "roboflow.login()"
   ]
  },
  {
   "cell_type": "markdown",
   "id": "794e6527",
   "metadata": {},
   "source": [
    "## Classification Inference\n",
    "\n",
    "Classification lables an image as belonging to one of a list of possible categories.\n",
    "\n",
    "With this model, we can identifiy whether a patient xray displays pneumonia or not.\n",
    "\n",
    "https://universe.roboflow.com/mohamed-traore-2ekkp/chest-x-rays-qjmia/model/3\n",
    "\n"
   ]
  },
  {
   "cell_type": "code",
   "execution_count": null,
   "id": "2852e408",
   "metadata": {},
   "outputs": [],
   "source": [
    "img_url = \"https://storage.googleapis.com/roboflow-platform-sources/arRagmpkRzqLfrKDYQ18/NgkNSibci72JTUV2z2D6/original.jpg\"\n",
    "#roboflow models live in projects\n",
    "project = \"chest-x-rays-qjmia\"\n",
    "#roboflow models are trained on dataset versions within each project\n",
    "version = 3\n",
    "\n",
    "model = roboflow.load_model(project=project, version=version)\n",
    "pred = model.predict(img_url, hosted=True)\n",
    "pred.plot()"
   ]
  },
  {
   "cell_type": "code",
   "execution_count": null,
   "id": "cb68ceb0",
   "metadata": {},
   "outputs": [],
   "source": [
    "# we can also get pred.json() so our application can take appropriate reaction or store the result to a database\n",
    "# TODO: make that json() make sense (also how do we know single or multi-class classification?)"
   ]
  },
  {
   "cell_type": "markdown",
   "id": "c627dce4",
   "metadata": {},
   "source": [
    "## Object Detection Inference\n",
    "\n",
    "Object detection identifies the loccation objects of interest in an image with bounding boxes.\n",
    "\n",
    "With this model, we can find the location and count of solar panels from drone imagery.\n",
    "\n",
    "https://universe.roboflow.com/brad-dwyer/aerial-solar-panels/model/6"
   ]
  },
  {
   "cell_type": "code",
   "execution_count": null,
   "id": "13aeac6b",
   "metadata": {},
   "outputs": [],
   "source": [
    "img_url = \"https://storage.googleapis.com/roboflow-platform-sources/5w20VzQObTXjJhTjq6kad9ubrm33/u4tafZcDgtuOuWm4jIGX/original.jpg\"\n",
    "project = \"aerial-solar-panels\"\n",
    "version = 6\n",
    "\n",
    "model = roboflow.load_model(project=project, version=version)\n",
    "pred = model.predict(img_url, hosted=True)\n",
    "pred.plot()"
   ]
  },
  {
   "cell_type": "code",
   "execution_count": null,
   "id": "253c79cf",
   "metadata": {},
   "outputs": [],
   "source": [
    "print(len(pred.json()[\"predictions\"]), \"solar panels were detected in the image\")"
   ]
  },
  {
   "cell_type": "markdown",
   "id": "b9b2df13",
   "metadata": {},
   "source": [
    "## Instance Segmentation Inference\n",
    "\n",
    "Instance segmentation draws the exact boundary around the object of interest in an image. While more powerful than object detection, instance segmentation models are more difficult to create.\n",
    "\n",
    "With this model, we can find the outline of a hand making american sign language gestures.\n",
    "\n",
    "https://universe.roboflow.com/paul-guerrie-tang1/asl-poly-instance-seg/model/26"
   ]
  },
  {
   "cell_type": "code",
   "execution_count": null,
   "id": "6e91e8f2",
   "metadata": {},
   "outputs": [],
   "source": [
    "# TODO: Move this image to media.roboflow.com\n",
    "img_url = \"https://storage.googleapis.com/roboflow-platform-sources/6ifjvbcQ37aB9vGuiwHdjcOI7Z33/6ZkhTWpjlT0K4E4Khsjy/original.jpg\"\n",
    "project = \"asl-poly-instance-seg\"\n",
    "version = 26\n",
    "\n",
    "# TODO: should we just allow load_model to accept a full app or universe URL and parse out what we need?\n",
    "model = roboflow.load_model(project=project, version=version)\n",
    "pred = model.predict(img_url)\n",
    "pred.plot()"
   ]
  },
  {
   "cell_type": "markdown",
   "id": "e89df61c",
   "metadata": {},
   "source": [
    "## Next Up - Integrating Roboflow Into Your Application\n",
    "\n",
    "In the next part of the quickstart, we'll dive into the ways you can implement Roboflow into your application"
   ]
  },
  {
   "cell_type": "code",
   "execution_count": null,
   "id": "1fa37b4f",
   "metadata": {},
   "outputs": [],
   "source": [
    "# TODO: make this a link instead of a code cell (otherwise \"Run All\" opens a new tab when you're still up top)\n",
    "\n",
    "from notebook import notebookapp\n",
    "import webbrowser\n",
    "jupyter_server = list(notebookapp.list_running_servers())[0][\"url\"]\n",
    "webbrowser.open(jupyter_server + \"notebooks/integration.ipynb\")"
   ]
  },
  {
   "cell_type": "code",
   "execution_count": null,
   "id": "b1c61830",
   "metadata": {},
   "outputs": [],
   "source": []
  }
 ],
 "metadata": {
  "kernelspec": {
   "display_name": "Python 3 (ipykernel)",
   "language": "python",
   "name": "python3"
  },
  "language_info": {
   "codemirror_mode": {
    "name": "ipython",
    "version": 3
   },
   "file_extension": ".py",
   "mimetype": "text/x-python",
   "name": "python",
   "nbconvert_exporter": "python",
   "pygments_lexer": "ipython3",
   "version": "3.10.8"
  }
 },
 "nbformat": 4,
 "nbformat_minor": 5
}
