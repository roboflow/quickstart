{
 "cells": [
  {
   "cell_type": "markdown",
   "id": "51eeb6a3",
   "metadata": {},
   "source": [
    "# Creating Your Own Models\n",
    "\n",
    "Roboflow provides you with tools to create your own computer vision (CV) models.\n",
    "\n",
    "Creating robust CV models is centered around gathering a representative dataset and iterating on that dataset as your model needs to improve.\n",
    "\n",
    "Run the cell below to see our video tutorial on how to build your own model with Roboflow."
   ]
  },
  {
   "cell_type": "code",
   "execution_count": 4,
   "id": "986b6d5d",
   "metadata": {},
   "outputs": [
    {
     "data": {
      "text/html": [
       "<video src=\"https://media.roboflow.com/homepage/video/build-a-coin-counter-app-w-roboflow-resize.mp4\" controls  width=\"900\"  height=\"576\">\n",
       "      Your browser does not support the <code>video</code> element.\n",
       "    </video>"
      ],
      "text/plain": [
       "<IPython.core.display.Video object>"
      ]
     },
     "execution_count": 4,
     "metadata": {},
     "output_type": "execute_result"
    }
   ],
   "source": [
    "from IPython.display import Video\n",
    "\n",
    "Video(\"https://media.roboflow.com/homepage/video/build-a-coin-counter-app-w-roboflow-resize.mp4\", width=900, height=576)"
   ]
  },
  {
   "cell_type": "markdown",
   "id": "74d26cef",
   "metadata": {},
   "source": [
    "## Gather a Dataset\n",
    "\n",
    "To start training your model, you need to gather a representative dataset of images from the scenes where you are expecting your model to make inference. For example, if you want to predict the location of solar panels on a roof, you would need many images of solar panels that are representative of the types of images your model will see when it is running in production.\n",
    "\n",
    "Roboflow operates the world's largest repository of open-source computer vision datasets. This site, called [Roboflow Universe](universe.roboflow.com), is a great place to find data to build your first model. With Universe, you can spend less time annotating data.\n",
    "\n",
    "## Upload and Label Your Dataset\n",
    "\n",
    "Once you have gathered your dataset, you can upload your images to Roboflow via [web user interface](app.roboflow.com) or Python code."
   ]
  },
  {
   "cell_type": "code",
   "execution_count": 1,
   "id": "da1f8283",
   "metadata": {},
   "outputs": [
    {
     "name": "stdout",
     "output_type": "stream",
     "text": [
      "visit https://app.roboflow.com/auth-cli to get your authentication token.\n",
      "Paste the authentication here token here: bef7e7ab-ab87-4e76-9ef3-a130e64822f8\n",
      "loading Roboflow workspace...\n"
     ]
    }
   ],
   "source": [
    "import roboflow\n",
    "workspace = roboflow.login(force=True)"
   ]
  },
  {
   "cell_type": "code",
   "execution_count": 2,
   "id": "5588f49b",
   "metadata": {},
   "outputs": [
    {
     "data": {
      "text/plain": [
       "'JacobTesterton'"
      ]
     },
     "execution_count": 2,
     "metadata": {},
     "output_type": "execute_result"
    }
   ],
   "source": [
    "workspace.name"
   ]
  },
  {
   "cell_type": "code",
   "execution_count": 15,
   "id": "388a0a8e",
   "metadata": {},
   "outputs": [
    {
     "name": "stdout",
     "output_type": "stream",
     "text": [
      "\r",
      "loading Roboflow project...\n"
     ]
    }
   ],
   "source": [
    "# example upload\n",
    "workspace.project(\"aerial-youtube\").upload(\"drone_scan.jpg\")"
   ]
  },
  {
   "cell_type": "markdown",
   "id": "81c60e80",
   "metadata": {},
   "source": [
    "## Downloading Dataset"
   ]
  },
  {
   "cell_type": "code",
   "execution_count": 4,
   "id": "9eff7c72",
   "metadata": {},
   "outputs": [
    {
     "name": "stdout",
     "output_type": "stream",
     "text": [
      "loading Roboflow project...\n",
      "Downloading Dataset Version Zip in Blood-Cells-1 to yolov5pytorch: 100% [9911186 / 9911186] bytes\n"
     ]
    },
    {
     "name": "stderr",
     "output_type": "stream",
     "text": [
      "Extracting Dataset Version Zip to Blood-Cells-1 in yolov5pytorch:: 100%|█████████████████████████████████████| 740/740 [00:00<00:00, 10551.96it/s]\n"
     ]
    }
   ],
   "source": [
    "dataset = workspace.project(\"blood-cells-ragq9\").version(1).download(\"yolov5pytorch\")"
   ]
  },
  {
   "cell_type": "code",
   "execution_count": 5,
   "id": "7588e5d4",
   "metadata": {},
   "outputs": [
    {
     "data": {
      "text/plain": [
       "'/Users/jacobsolawetz/roboflow/roboflow-python/Blood-Cells-1'"
      ]
     },
     "execution_count": 5,
     "metadata": {},
     "output_type": "execute_result"
    }
   ],
   "source": [
    "dataset.location"
   ]
  },
  {
   "cell_type": "markdown",
   "id": "ffeb7fc9",
   "metadata": {},
   "source": [
    "## Train a Model\n",
    "\n",
    "After you have labeled a dataset, you can:\n",
    "\n",
    "1) Train a model inside of Roboflow via AutoML (shown in the video earlier in this notebook) or;\n",
    "2) Train externally via a [notebook tutorial](https://github.com/roboflow/notebooks).\n",
    "\n",
    "If you want to host an externally-trained model on Roboflow, note that we presently support only YOLOv5 and YOLOv8 for  custom model deployment.\n"
   ]
  },
  {
   "cell_type": "markdown",
   "id": "1188dcf7",
   "metadata": {},
   "source": [
    "## 🏆 Congratulations\n",
    "\n",
    "In these notebooks, you have:\n",
    "\n",
    "1. Loaded object detection, image classification, and segmentation models into a notebook.\n",
    "2. Run inference using both your webcam and external images.\n",
    "3. Learned how to start creating your own model with custom data.\n",
    "\n",
    "This notebook covers the fundamentals of using Roboflow. The possibilities are endless. After you build a model, you can start to think about the results of your model. Indeed, building a model is only the beginning; the exciting part is working with your model to achieve an outcome. For example, you could train a model to detect ASL and build a quiz application on top of it. You could use a model to detect shipping containers and use that in an enterprise setting.\n",
    "\n",
    "Congratulations on completing this series of notebooks! We're excited for you to be leveraging the power of computer vision to build tools that solve your needs!\n",
    "\n",
    "### Learning Resources\n",
    "\n",
    "Roboflow has produced many resources that you may find interesting as you advance your knowledge of computer vision:\n",
    "\n",
    "- [Roboflow Notebooks](https://github.com/roboflow/notebooks): A repository of over 20 notebooks that walk through how to train custom models with a range of model types, from YOLOv7 to SegFormer.\n",
    "- [Roboflow YouTube](https://www.youtube.com/c/Roboflow): Our library of videos featuring deep dives into the latest in computer vision, detailed tutorials that accompany our notebooks, and more.\n",
    "- [Roboflow Discuss](https://discuss.roboflow.com/): Have a question about how to do something on Roboflow? Ask your question on our discussion forum.\n",
    "- [Roboflow Models](https://roboflow.com): Learn about state-of-the-art models and their performance. Find links and tutorials to guide your learning.\n",
    "\n",
    "### Convert data formats\n",
    "\n",
    "Roboflow provides free utilities to convert data between dozens of popular computer vision formats. Check out [Roboflow Formats](https://roboflow.com/formats) to find tutorials on how to convert data between formats in a few clicks.\n",
    "\n",
    "### Connect computer vision to your project logic\n",
    "\n",
    "[Roboflow Templates](https://roboflow.com/templates) is a public gallery of code snippets that you can use to connect computer vision to your project logic. Code snippets range from sending emails after inference to measuring object distance between detections."
   ]
  }
 ],
 "metadata": {
  "kernelspec": {
   "display_name": "Python 3 (ipykernel)",
   "language": "python",
   "name": "python3"
  },
  "language_info": {
   "codemirror_mode": {
    "name": "ipython",
    "version": 3
   },
   "file_extension": ".py",
   "mimetype": "text/x-python",
   "name": "python",
   "nbconvert_exporter": "python",
   "pygments_lexer": "ipython3",
   "version": "3.9.6"
  }
 },
 "nbformat": 4,
 "nbformat_minor": 5
}
