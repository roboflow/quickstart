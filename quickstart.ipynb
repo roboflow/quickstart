{
 "cells": [
  {
   "cell_type": "code",
   "execution_count": null,
   "id": "be246330",
   "metadata": {},
   "outputs": [],
   "source": [
    "#!pip install jupyterlab\n",
    "#!pip install ipywidgets\n",
    "#!jupyter labextension install @jupyter-widgets/jupyterlab-manager\n",
    "#!jupyter nbextension enable --py widgetsnbextension --sys-prefix\n",
    "#!jupyter nbextension enable --user --py widgetsnbextension  --sys-prefix"
   ]
  },
  {
   "cell_type": "code",
   "execution_count": 1,
   "id": "0a44fb1f",
   "metadata": {
    "scrolled": false
   },
   "outputs": [
    {
     "name": "stdout",
     "output_type": "stream",
     "text": [
      "\r",
      "You are already logged into Roboflow. To make a different login, run roboflow.login(force=True).\n"
     ]
    }
   ],
   "source": [
    "#log into Roboflow\n",
    "import roboflow\n",
    "roboflow.login()"
   ]
  },
  {
   "cell_type": "code",
   "execution_count": 7,
   "id": "eecf3144",
   "metadata": {},
   "outputs": [
    {
     "data": {
      "application/vnd.jupyter.widget-view+json": {
       "model_id": "a1c03d665feb4a149b568668ccae2bab",
       "version_major": 2,
       "version_minor": 0
      },
      "text/plain": [
       "ToggleButton(value=False, button_style='danger', description='Stop Inference', icon='square', tooltip='Descrip…"
      ]
     },
     "metadata": {},
     "output_type": "display_data"
    },
    {
     "data": {
      "text/plain": [
       "None"
      ]
     },
     "metadata": {},
     "output_type": "display_data"
    }
   ],
   "source": [
    "import matplotlib.pyplot as plt\n",
    "import cv2\n",
    "import numpy as np\n",
    "from IPython.display import display, Image\n",
    "import ipywidgets as widgets\n",
    "import threading\n",
    "\n",
    "# Stop button\n",
    "# ================\n",
    "stopButton = widgets.ToggleButton(\n",
    "    value=False,\n",
    "    description='Stop Inference',\n",
    "    disabled=False,\n",
    "    button_style='danger', # 'success', 'info', 'warning', 'danger' or ''\n",
    "    tooltip='Description',\n",
    "    icon='square' # (FontAwesome names without the `fa-` prefix)\n",
    ")\n",
    "\n",
    "\n",
    "# Display function\n",
    "# ================\n",
    "def view(button):\n",
    "    cap = cv2.VideoCapture(0)\n",
    "    display_handle=display(None, display_id=True)\n",
    "    i = 0\n",
    "    while True:\n",
    "        if stopButton.value==True:\n",
    "            cap.release()\n",
    "            display_handle.update(None)\n",
    "            break\n",
    "        \n",
    "        else:\n",
    "            _, frame = cap.read()\n",
    "            frame = cv2.flip(frame, 1) # if your camera reverses your image\n",
    "            _, frame = cv2.imencode('.jpeg', frame)\n",
    "            display_handle.update(Image(data=frame.tobytes()))\n",
    "\n",
    "\n",
    "# Run\n",
    "# ================\n",
    "display(stopButton)\n",
    "thread = threading.Thread(target=view, args=(stopButton,))\n",
    "thread.start()\n",
    "\n"
   ]
  },
  {
   "cell_type": "code",
   "execution_count": null,
   "id": "2d817ae9",
   "metadata": {},
   "outputs": [],
   "source": [
    "#pull up webcam "
   ]
  },
  {
   "cell_type": "code",
   "execution_count": null,
   "id": "919ba2b5",
   "metadata": {},
   "outputs": [],
   "source": [
    "#notebook #2\n",
    "#roboflow.train()\n",
    "\n",
    "#while that \n",
    "\n",
    "#next notebook is training on CPU\n",
    "\n",
    "#with optional Roboflow Train\n",
    "\n",
    "#roboflow.deploy() - weights go up\n",
    "\n",
    "#roboflow infer - \n",
    "\n",
    "#active learning example (miss detection), active learn data, retrain\n",
    "\n"
   ]
  }
 ],
 "metadata": {
  "kernelspec": {
   "display_name": "Python 3 (ipykernel)",
   "language": "python",
   "name": "python3"
  },
  "language_info": {
   "codemirror_mode": {
    "name": "ipython",
    "version": 3
   },
   "file_extension": ".py",
   "mimetype": "text/x-python",
   "name": "python",
   "nbconvert_exporter": "python",
   "pygments_lexer": "ipython3",
   "version": "3.9.12"
  }
 },
 "nbformat": 4,
 "nbformat_minor": 5
}
