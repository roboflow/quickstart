{
 "cells": [
  {
   "cell_type": "markdown",
   "id": "b37412f8",
   "metadata": {},
   "source": [
    "# Roboflow Quickstart - Python\n",
    "\n",
    "Roboflow is a set of tools to help you build a production ready computer vision workflow, fast.\n",
    "\n",
    "TODO: More Roboflow overview (what's it do?), credibility/social proof, and quick links."
   ]
  },
  {
   "cell_type": "code",
   "execution_count": 20,
   "id": "0a44fb1f",
   "metadata": {
    "scrolled": false
   },
   "outputs": [
    {
     "name": "stdout",
     "output_type": "stream",
     "text": [
      "\r",
      "You are already logged into Roboflow. To make a different login, run roboflow.login(force=True).\n"
     ]
    }
   ],
   "source": [
    "# sign up or log in to Roboflow\n",
    "# this will generate your API key if you don't have one\n",
    "import roboflow\n",
    "roboflow.login()\n",
    "\n",
    "# TODO: clear code cell output as it's confusing to have it say\n",
    "# you're already logeged in"
   ]
  },
  {
   "cell_type": "markdown",
   "id": "d737a0d2",
   "metadata": {},
   "source": [
    "### Run Your Webcam on COCO (Common Objects in Context) Model\n",
    "\n",
    "The COCO model is trained on [a dataset containing 80 classes of \"common objects in context\"](https://blog.roboflow.com/coco-dataset/). It is commonly used to benchmark object detection models' performance.\n",
    "\n",
    "This is a list of the objects that COCO detects from [the COCO explorer](https://cocodataset.org/#explore) that you can try to detect with your webcam below.\n",
    "\n",
    "TODO: update this image to use media.roboflow.com instead of imgur\n",
    "![image info](https://i.imgur.com/mNW1tcR.png[/img)"
   ]
  },
  {
   "cell_type": "code",
   "execution_count": null,
   "id": "9a261495",
   "metadata": {
    "scrolled": true
   },
   "outputs": [],
   "source": [
    "# Show the COCO model your cell phone or a book to see how it does at detecting them\n",
    "\n",
    "universe_model_url = \"https://universe.roboflow.com/jacob-solawetz/microsoft-coco/dataset/9\"\n",
    "project = universe_model_url.split(\"/\")[-3]\n",
    "version = int(universe_model_url.split(\"/\")[-1])\n",
    "model = roboflow.load_model(project=project, version=version)\n",
    "\n",
    "# The setup script started a server on your computer at port 9001\n",
    "# (you can verify this by visiting http://localhost:9001 in your browser)\n",
    "# \n",
    "# Running this cell will load the model onto your computer\n",
    "# and use it to get predictions on images from your webcam\n",
    "model.webcam(inference_engine_url=\"http://localhost:9001/\", within_jupyter=True, web_cam_res=(416,416), confidence=10)\n",
    "\n",
    "# TODO: \n",
    "# - this still freezes/stops after just a couple of seconds\n",
    "# - while the model is loading it displays `None` for a couple seconds which makes it look broken (we should say \"loading model or something\")"
   ]
  },
  {
   "cell_type": "markdown",
   "id": "d3b8c31c",
   "metadata": {},
   "source": [
    "### Run Your Webcame on American Sign Language Letters\n",
    "\n",
    "Now let's try [a finetuned model that was trained to detect hand signs](https://universe.roboflow.com/david-lee-d0rhs/american-sign-language-letters/model/6) for letters in the American Sign Language alphabet.\n",
    "\n",
    "![image info](https://i.imgur.com/cRBv1MX.png[/img)\n",
    "TODO: Update this image to use media.roboflow.com CDN"
   ]
  },
  {
   "cell_type": "code",
   "execution_count": null,
   "id": "ffdf98ae",
   "metadata": {},
   "outputs": [],
   "source": [
    "# See if you can get this model to detect a W hand sign\n",
    "\n",
    "universe_model_url = \"https://universe.roboflow.com/david-lee-d0rhs/american-sign-language-letters/model/6\"\n",
    "project = universe_model_url.split(\"/\")[-3]\n",
    "version = int(universe_model_url.split(\"/\")[-1])\n",
    "model = roboflow.load_model(project=project, version=version)\n",
    "\n",
    "model.webcam(inference_engine_url=\"http://localhost:9001/\", within_jupyter=True, confidence=20)"
   ]
  },
  {
   "cell_type": "markdown",
   "id": "9e885abe",
   "metadata": {},
   "source": [
    "## Roboflow Universe\n",
    "\n",
    "[Roboflow Universe](universe.roboflow.com) is a repository of over 200,000 open source computer datasets and 20,000 community-shared models that you can leverage in your application for tasks from detecting license plates to counting pills. [Find a model](https://universe.roboflow.com/roboflow-universe-projects) and try it out:"
   ]
  },
  {
   "cell_type": "code",
   "execution_count": null,
   "id": "0b411dfa",
   "metadata": {
    "scrolled": true
   },
   "outputs": [],
   "source": [
    "# Paste the link for the model you found here:\n",
    "universe_model_url = \"https://universe.roboflow.com/roboflow-universe-projects/safety-vests/model/5\"\n",
    "project = universe_model_url.split(\"/\")[-3]\n",
    "version = int(universe_model_url.split(\"/\")[-1])\n",
    "model = roboflow.load_model(project=project, version=version)\n",
    "\n",
    "model.webcam(inference_engine_url=\"http://localhost:9001/\", within_jupyter=True)"
   ]
  },
  {
   "cell_type": "markdown",
   "id": "3210dc81",
   "metadata": {},
   "source": [
    "Note: since all of the models on Roboflow Universe were shared by Roboflow users just like you, their models are of differing quality. If your model didn't work very well, try another one (or, later in this Quickstart, we'll show you how to use it as a starting point for creating your own)."
   ]
  },
  {
   "cell_type": "markdown",
   "id": "b13536a4",
   "metadata": {},
   "source": [
    "## Next Up - Roboflow Model Types\n",
    "\n",
    "In the next part of the quickstart, we'll learn about the different model types you can find deploy from Roboflow.\n",
    "\n",
    "### [Continue to Notebook 2: Model Types](model-types.ipynb)"
   ]
  }
 ],
 "metadata": {
  "kernelspec": {
   "display_name": "Python 3 (ipykernel)",
   "language": "python",
   "name": "python3"
  },
  "language_info": {
   "codemirror_mode": {
    "name": "ipython",
    "version": 3
   },
   "file_extension": ".py",
   "mimetype": "text/x-python",
   "name": "python",
   "nbconvert_exporter": "python",
   "pygments_lexer": "ipython3",
   "version": "3.10.8"
  }
 },
 "nbformat": 4,
 "nbformat_minor": 5
}
